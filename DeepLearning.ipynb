{
 "cells": [
  {
   "cell_type": "code",
   "execution_count": 1,
   "id": "efb65e0f",
   "metadata": {},
   "outputs": [],
   "source": [
    "import numpy as np\n",
    "import pandas as pd\n",
    "import os\n",
    "import cv2\n",
    "import matplotlib.pyplot as plt\n",
    "import pathlib\n",
    "from sklearn.model_selection import train_test_split\n",
    "from tensorflow.keras.utils import to_categorical\n",
    "from sklearn.metrics import accuracy_score\n",
    "import  PIL\n",
    "from PIL import  ImageEnhance , ImageOps , Image\n",
    "from matplotlib import pyplot\n",
    "from keras.models import Sequential\n",
    "from tensorflow.keras.preprocessing import image\n",
    "from tensorflow import keras\n",
    "from tensorflow.keras.preprocessing.image import ImageDataGenerator, img_to_array, array_to_img, load_img\n",
    "from tensorflow.keras.utils import to_categorical\n",
    "from tensorflow.keras.layers import Conv2D, MaxPool2D, Dense, Flatten, Dropout, MaxPooling2D\n",
    "from tensorflow.keras.models import Sequential\n",
    "from keras.callbacks import ModelCheckpoint, EarlyStopping\n",
    "from tensorflow.keras.optimizers import Adam"
   ]
  },
  {
   "cell_type": "code",
   "execution_count": 2,
   "id": "dcb27759",
   "metadata": {},
   "outputs": [],
   "source": [
    "plt.rcParams[\"figure.figsize\"] = (16,10) #Make the plots bigger by default\n",
    "plt.rcParams[\"lines.linewidth\"] = 2 #Setting the default line width\n",
    "plt.style.use(\"ggplot\")"
   ]
  },
  {
   "cell_type": "code",
   "execution_count": 3,
   "id": "7f0b7337",
   "metadata": {},
   "outputs": [],
   "source": [
    "path = 'Train'\n",
    "image_height = 30\n",
    "image_width = 30"
   ]
  },
  {
   "cell_type": "code",
   "execution_count": 4,
   "id": "c663ca54",
   "metadata": {},
   "outputs": [
    {
     "data": {
      "text/plain": [
       "43"
      ]
     },
     "execution_count": 4,
     "metadata": {},
     "output_type": "execute_result"
    }
   ],
   "source": [
    "numberOfClasses = len(os.listdir(path))\n",
    "numberOfClasses= numberOfClasses-1\n",
    "numberOfClasses"
   ]
  },
  {
   "cell_type": "code",
   "execution_count": null,
   "id": "b740bb74",
   "metadata": {},
   "outputs": [],
   "source": []
  },
  {
   "cell_type": "code",
   "execution_count": 5,
   "id": "a007f675",
   "metadata": {},
   "outputs": [],
   "source": [
    "classes = { 0:'Speed limit (20km/h)',\n",
    "            1:'Speed limit (30km/h)', \n",
    "            2:'Speed limit (50km/h)', \n",
    "            3:'Speed limit (60km/h)', \n",
    "            4:'Speed limit (70km/h)', \n",
    "            5:'Speed limit (80km/h)', \n",
    "            6:'End of speed limit (80km/h)', \n",
    "            7:'Speed limit (100km/h)', \n",
    "            8:'Speed limit (120km/h)', \n",
    "            9:'No passing', \n",
    "            10:'No passing veh over 3.5 tons', \n",
    "            11:'Right-of-way at intersection', \n",
    "            12:'Priority road', \n",
    "            13:'Yield', \n",
    "            14:'Stop', \n",
    "            15:'No vehicles', \n",
    "            16:'Veh > 3.5 tons prohibited', \n",
    "            17:'No entry', \n",
    "            18:'General caution', \n",
    "            19:'Dangerous curve left', \n",
    "            20:'Dangerous curve right', \n",
    "            21:'Double curve', \n",
    "            22:'Bumpy road', \n",
    "            23:'Slippery road', \n",
    "            24:'Road narrows on the right', \n",
    "            25:'Road work', \n",
    "            26:'Traffic signals', \n",
    "            27:'Pedestrians', \n",
    "            28:'Children crossing', \n",
    "            29:'Bicycles crossing', \n",
    "            30:'Beware of ice/snow',\n",
    "            31:'Wild animals crossing', \n",
    "            32:'End speed + passing limits', \n",
    "            33:'Turn right ahead', \n",
    "            34:'Turn left ahead', \n",
    "            35:'Ahead only', \n",
    "            36:'Go straight or right', \n",
    "            37:'Go straight or left', \n",
    "            38:'Keep right', \n",
    "            39:'Keep left', \n",
    "            40:'Roundabout mandatory', \n",
    "            41:'End of no passing', \n",
    "            42:'End no passing veh > 3.5 tons' \n",
    "          }"
   ]
  },
  {
   "cell_type": "code",
   "execution_count": null,
   "id": "2c1d25e0",
   "metadata": {},
   "outputs": [],
   "source": []
  },
  {
   "cell_type": "code",
   "execution_count": 6,
   "id": "801ba97f",
   "metadata": {},
   "outputs": [],
   "source": [
    "def load_data(directory):\n",
    "    imagesArray = list()\n",
    "    labels = list()\n",
    "    for data in range(numberOfClasses):\n",
    "        categories = os.path.join(directory, str(data))\n",
    "        for img in os.listdir(categories):\n",
    "            img = load_img(os.path.join(categories, img), target_size=(30, 30))\n",
    "            image = img_to_array(img)\n",
    "            imagesArray.append(image)\n",
    "            labels.append(data)\n",
    "    \n",
    "    return imagesArray, labels"
   ]
  },
  {
   "cell_type": "code",
   "execution_count": 7,
   "id": "05a8b963",
   "metadata": {},
   "outputs": [],
   "source": [
    "imagesArray, labels = load_data(path)"
   ]
  },
  {
   "cell_type": "code",
   "execution_count": null,
   "id": "05e062e9",
   "metadata": {},
   "outputs": [],
   "source": []
  },
  {
   "cell_type": "code",
   "execution_count": 8,
   "id": "6f7b869b",
   "metadata": {},
   "outputs": [
    {
     "data": {
      "text/plain": [
       "array([1., 0., 0., 0., 0., 0., 0., 0., 0., 0., 0., 0., 0., 0., 0., 0., 0.,\n",
       "       0., 0., 0., 0., 0., 0., 0., 0., 0., 0., 0., 0., 0., 0., 0., 0., 0.,\n",
       "       0., 0., 0., 0., 0., 0., 0., 0., 0.], dtype=float32)"
      ]
     },
     "execution_count": 8,
     "metadata": {},
     "output_type": "execute_result"
    }
   ],
   "source": [
    "labels = to_categorical(labels)\n",
    "labels[0]"
   ]
  },
  {
   "cell_type": "code",
   "execution_count": 9,
   "id": "45bcda90",
   "metadata": {},
   "outputs": [],
   "source": [
    "x_train, x_test, y_train, y_test = train_test_split(np.array(imagesArray), labels, test_size=0.2)"
   ]
  },
  {
   "cell_type": "code",
   "execution_count": null,
   "id": "a824087c",
   "metadata": {},
   "outputs": [],
   "source": []
  },
  {
   "cell_type": "code",
   "execution_count": 10,
   "id": "a0c6bf26",
   "metadata": {},
   "outputs": [
    {
     "name": "stdout",
     "output_type": "stream",
     "text": [
      "x_train shape: (31367, 30, 30, 3)\n",
      "Number of images in x_train 31367\n",
      "Number of images in x_test 7842\n"
     ]
    }
   ],
   "source": [
    "x_train/=255\n",
    "x_test/=255\n",
    "print('x_train shape:',x_train.shape)\n",
    "print('Number of images in x_train',x_train.shape[0])\n",
    "print('Number of images in x_test',x_test.shape[0])"
   ]
  },
  {
   "cell_type": "code",
   "execution_count": 11,
   "id": "c089e6fc",
   "metadata": {},
   "outputs": [
    {
     "name": "stdout",
     "output_type": "stream",
     "text": [
      "x_train shape: (7842, 30, 30, 3)\n"
     ]
    }
   ],
   "source": [
    "print('x_train shape:',x_test.shape)"
   ]
  },
  {
   "cell_type": "code",
   "execution_count": 12,
   "id": "2185dc11",
   "metadata": {},
   "outputs": [],
   "source": [
    "input_shape=(30,30,3)"
   ]
  },
  {
   "cell_type": "code",
   "execution_count": 13,
   "id": "a2e77b42",
   "metadata": {},
   "outputs": [
    {
     "name": "stdout",
     "output_type": "stream",
     "text": [
      "Model: \"sequential\"\n",
      "_________________________________________________________________\n",
      " Layer (type)                Output Shape              Param #   \n",
      "=================================================================\n",
      " conv2d (Conv2D)             (None, 28, 28, 32)        896       \n",
      "                                                                 \n",
      " max_pooling2d (MaxPooling2D  (None, 14, 14, 32)       0         \n",
      " )                                                               \n",
      "                                                                 \n",
      " dropout (Dropout)           (None, 14, 14, 32)        0         \n",
      "                                                                 \n",
      " conv2d_1 (Conv2D)           (None, 12, 12, 64)        18496     \n",
      "                                                                 \n",
      " max_pooling2d_1 (MaxPooling  (None, 6, 6, 64)         0         \n",
      " 2D)                                                             \n",
      "                                                                 \n",
      " dropout_1 (Dropout)         (None, 6, 6, 64)          0         \n",
      "                                                                 \n",
      " conv2d_2 (Conv2D)           (None, 4, 4, 64)          36928     \n",
      "                                                                 \n",
      " flatten (Flatten)           (None, 1024)              0         \n",
      "                                                                 \n",
      " dense (Dense)               (None, 64)                65600     \n",
      "                                                                 \n",
      " dense_1 (Dense)             (None, 43)                2795      \n",
      "                                                                 \n",
      "=================================================================\n",
      "Total params: 124,715\n",
      "Trainable params: 124,715\n",
      "Non-trainable params: 0\n",
      "_________________________________________________________________\n"
     ]
    }
   ],
   "source": [
    "model = Sequential()\n",
    "\n",
    "# First Convolutional Layer\n",
    "model.add(Conv2D(filters=32, kernel_size=3, activation='relu', input_shape=input_shape))\n",
    "model.add(MaxPool2D(pool_size=(2,2)))\n",
    "model.add(Dropout(rate=0.25))\n",
    "\n",
    "# Second Convolutional Layer\n",
    "model.add(Conv2D(filters=64, kernel_size=3, activation='relu'))\n",
    "model.add(MaxPool2D(pool_size=(2, 2)))\n",
    "model.add(Dropout(rate=0.25))\n",
    "\n",
    "# Third Convolutional Layer\n",
    "model.add(Conv2D(filters=64, kernel_size=3, activation='relu'))\n",
    "\n",
    "#Output Layer\n",
    "model.add(Flatten())\n",
    "model.add(Dense(units=64, activation='relu'))\n",
    "model.add(Dense(numberOfClasses, activation='softmax'))\n",
    "\n",
    "# Compiling the model\n",
    "\n",
    "lr = 0.001\n",
    "epochs = 20\n",
    "model.compile(loss='categorical_crossentropy',optimizer=\"adam\",metrics=['accuracy'])\n",
    "\n",
    "model.summary()"
   ]
  },
  {
   "cell_type": "code",
   "execution_count": null,
   "id": "a5ff023e",
   "metadata": {},
   "outputs": [],
   "source": []
  },
  {
   "cell_type": "code",
   "execution_count": 14,
   "id": "805408c5",
   "metadata": {},
   "outputs": [
    {
     "name": "stdout",
     "output_type": "stream",
     "text": [
      "Epoch 1/20\n",
      "785/785 [==============================] - 15s 19ms/step - loss: 1.4937 - accuracy: 0.5852 - val_loss: 0.4419 - val_accuracy: 0.8797\n",
      "Epoch 2/20\n",
      "785/785 [==============================] - 14s 18ms/step - loss: 0.3618 - accuracy: 0.8867 - val_loss: 0.2035 - val_accuracy: 0.9433\n",
      "Epoch 3/20\n",
      "785/785 [==============================] - 14s 18ms/step - loss: 0.2172 - accuracy: 0.9341 - val_loss: 0.1407 - val_accuracy: 0.9598\n",
      "Epoch 4/20\n",
      "785/785 [==============================] - 14s 18ms/step - loss: 0.1592 - accuracy: 0.9498 - val_loss: 0.1511 - val_accuracy: 0.9566\n",
      "Epoch 5/20\n",
      "785/785 [==============================] - 14s 18ms/step - loss: 0.1227 - accuracy: 0.9616 - val_loss: 0.0833 - val_accuracy: 0.9777\n",
      "Epoch 6/20\n",
      "785/785 [==============================] - 14s 18ms/step - loss: 0.1036 - accuracy: 0.9677 - val_loss: 0.0885 - val_accuracy: 0.9753\n",
      "Epoch 7/20\n",
      "785/785 [==============================] - 14s 18ms/step - loss: 0.0886 - accuracy: 0.9718 - val_loss: 0.0644 - val_accuracy: 0.9841\n",
      "Epoch 8/20\n",
      "785/785 [==============================] - 14s 18ms/step - loss: 0.0799 - accuracy: 0.9741 - val_loss: 0.0755 - val_accuracy: 0.9763\n",
      "Epoch 9/20\n",
      "785/785 [==============================] - 14s 18ms/step - loss: 0.0693 - accuracy: 0.9789 - val_loss: 0.0567 - val_accuracy: 0.9850\n",
      "Epoch 10/20\n",
      "785/785 [==============================] - 14s 18ms/step - loss: 0.0661 - accuracy: 0.9780 - val_loss: 0.0460 - val_accuracy: 0.9887\n",
      "Epoch 11/20\n",
      "785/785 [==============================] - 14s 18ms/step - loss: 0.0620 - accuracy: 0.9795 - val_loss: 0.0617 - val_accuracy: 0.9825\n",
      "Epoch 12/20\n",
      "785/785 [==============================] - 14s 18ms/step - loss: 0.0562 - accuracy: 0.9817 - val_loss: 0.0586 - val_accuracy: 0.9855\n",
      "Epoch 13/20\n",
      "785/785 [==============================] - 14s 18ms/step - loss: 0.0553 - accuracy: 0.9831 - val_loss: 0.0421 - val_accuracy: 0.9900\n",
      "Epoch 14/20\n",
      "785/785 [==============================] - 14s 18ms/step - loss: 0.0486 - accuracy: 0.9845 - val_loss: 0.0399 - val_accuracy: 0.9900\n",
      "Epoch 15/20\n",
      "785/785 [==============================] - 14s 18ms/step - loss: 0.0505 - accuracy: 0.9841 - val_loss: 0.0408 - val_accuracy: 0.9900\n",
      "Epoch 16/20\n",
      "785/785 [==============================] - 14s 18ms/step - loss: 0.0479 - accuracy: 0.9846 - val_loss: 0.0490 - val_accuracy: 0.9855\n",
      "Epoch 17/20\n",
      "785/785 [==============================] - 14s 18ms/step - loss: 0.0427 - accuracy: 0.9869 - val_loss: 0.0420 - val_accuracy: 0.9888\n",
      "Epoch 18/20\n",
      "785/785 [==============================] - 14s 18ms/step - loss: 0.0407 - accuracy: 0.9870 - val_loss: 0.0471 - val_accuracy: 0.9880\n",
      "Epoch 19/20\n",
      "785/785 [==============================] - 14s 18ms/step - loss: 0.0401 - accuracy: 0.9870 - val_loss: 0.0400 - val_accuracy: 0.9901\n",
      "Epoch 20/20\n",
      "785/785 [==============================] - 14s 18ms/step - loss: 0.0364 - accuracy: 0.9884 - val_loss: 0.0329 - val_accuracy: 0.9927\n"
     ]
    }
   ],
   "source": [
    "history = model.fit(x_train, y_train,validation_split=0.2,epochs=20)"
   ]
  },
  {
   "cell_type": "code",
   "execution_count": null,
   "id": "0a97690f",
   "metadata": {},
   "outputs": [],
   "source": []
  },
  {
   "cell_type": "code",
   "execution_count": 23,
   "id": "cf9b3797",
   "metadata": {},
   "outputs": [
    {
     "name": "stdout",
     "output_type": "stream",
     "text": [
      "246/246 [==============================] - 1s 5ms/step - loss: 0.0400 - accuracy: 0.9911\n",
      "The Accuracy of testing our Model is:  99.1073727607727\n"
     ]
    }
   ],
   "source": [
    "loss, accuracy = model.evaluate(x_test, y_test)\n",
    "\n",
    "print('The Accuracy of testing our Model is: ', accuracy * 100)"
   ]
  },
  {
   "cell_type": "code",
   "execution_count": 16,
   "id": "288f1e26",
   "metadata": {},
   "outputs": [
    {
     "data": {
      "image/png": "[encoded data removed]",
      "text/plain": [
       "<Figure size 1152x720 with 1 Axes>"
      ]
     },
     "metadata": {},
     "output_type": "display_data"
    }
   ],
   "source": [
    "plt.plot(history.history['accuracy'])\n",
    "plt.plot(history.history['val_accuracy'])\n",
    "plt.title('model accuracy')\n",
    "plt.ylabel('accuracy')\n",
    "plt.xlabel('epoch')\n",
    "plt.legend(['train', 'test'], loc='upper left')\n",
    "plt.show()"
   ]
  },
  {
   "cell_type": "code",
   "execution_count": null,
   "id": "55b9a34d",
   "metadata": {},
   "outputs": [],
   "source": []
  },
  {
   "cell_type": "code",
   "execution_count": 17,
   "id": "87988f79",
   "metadata": {},
   "outputs": [],
   "source": [
    "def testImage(index):\n",
    "    plt.imshow(x_test[index])\n",
    "    n = np.array(x_test[index])\n",
    "    print(n.size)\n",
    "    reshapedImage = n.reshape(1, 30, 30, 3)\n",
    "    predictions = classes[model.predict(reshapedImage).argmax()]\n",
    "\n",
    "    print(\"The predicted image is {}\".format(predictions))"
   ]
  },
  {
   "cell_type": "code",
   "execution_count": 18,
   "id": "97f442c4",
   "metadata": {},
   "outputs": [
    {
     "name": "stdout",
     "output_type": "stream",
     "text": [
      "2700\n",
      "1/1 [==============================] - 0s 77ms/step\n",
      "The predicted image is Pedestrians\n"
     ]
    },
    {
     "data": {
      "image/png": "[encoded data removed]",
      "text/plain": [
       "<Figure size 1152x720 with 1 Axes>"
      ]
     },
     "metadata": {},
     "output_type": "display_data"
    }
   ],
   "source": [
    "testImage(0)"
   ]
  },
  {
   "cell_type": "code",
   "execution_count": 19,
   "id": "ed94b270",
   "metadata": {},
   "outputs": [
    {
     "name": "stdout",
     "output_type": "stream",
     "text": [
      "2700\n",
      "1/1 [==============================] - 0s 14ms/step\n",
      "The predicted image is Right-of-way at intersection\n"
     ]
    },
    {
     "data": {
      "image/png": "[encoded data removed]",
      "text/plain": [
       "<Figure size 1152x720 with 1 Axes>"
      ]
     },
     "metadata": {},
     "output_type": "display_data"
    }
   ],
   "source": [
    "testImage(234)"
   ]
  },
  {
   "cell_type": "code",
   "execution_count": 20,
   "id": "fd76e872",
   "metadata": {},
   "outputs": [
    {
     "name": "stdout",
     "output_type": "stream",
     "text": [
      "2700\n",
      "1/1 [==============================] - 0s 16ms/step\n",
      "The predicted image is Speed limit (50km/h)\n"
     ]
    },
    {
     "data": {
      "image/png": "[encoded data removed]",
      "text/plain": [
       "<Figure size 1152x720 with 1 Axes>"
      ]
     },
     "metadata": {},
     "output_type": "display_data"
    }
   ],
   "source": [
    "testImage(2300)"
   ]
  },
  {
   "cell_type": "code",
   "execution_count": 21,
   "id": "8004eb44",
   "metadata": {},
   "outputs": [
    {
     "name": "stdout",
     "output_type": "stream",
     "text": [
      "2700\n",
      "1/1 [==============================] - 0s 16ms/step\n",
      "The predicted image is General caution\n"
     ]
    },
    {
     "data": {
      "image/png": "[encoded data removed]",
      "text/plain": [
       "<Figure size 1152x720 with 1 Axes>"
      ]
     },
     "metadata": {},
     "output_type": "display_data"
    }
   ],
   "source": [
    "testImage(7822)"
   ]
  },
  {
   "cell_type": "code",
   "execution_count": null,
   "id": "2c1b0d5c",
   "metadata": {},
   "outputs": [],
   "source": []
  }
 ],
 "metadata": {
  "kernelspec": {
   "display_name": "Python 3",
   "language": "python",
   "name": "python3"
  },
  "language_info": {
   "codemirror_mode": {
    "name": "ipython",
    "version": 3
   },
   "file_extension": ".py",
   "mimetype": "text/x-python",
   "name": "python",
   "nbconvert_exporter": "python",
   "pygments_lexer": "ipython3",
   "version": "3.8.8"
  }
 },
 "nbformat": 4,
 "nbformat_minor": 5
}
